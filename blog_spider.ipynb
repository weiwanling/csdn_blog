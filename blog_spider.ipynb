{
 "cells": [
  {
   "cell_type": "code",
   "execution_count": 1,
   "metadata": {},
   "outputs": [],
   "source": [
    "#导入所需库\n",
    "import requests as req\n",
    "from bs4 import BeautifulSoup\n",
    "import re\n",
    "import  os"
   ]
  },
  {
   "cell_type": "code",
   "execution_count": 2,
   "metadata": {},
   "outputs": [],
   "source": [
    "def save_data(title_list=[],content_list=[]):\n",
    "    '''\n",
    "    将爬取到的内容存到当前目录的blog目录下，如果没有blog\n",
    "    目录则创建\n",
    "    :title_list: 文章题目列表\n",
    "    :content_list: 文章内容列表\n",
    "    '''\n",
    "    path=r'./blog/'\n",
    "    if not os.path.exists(path):\n",
    "        os.mkdir(path)\n",
    "    for i in range(len(title_list)):\n",
    "        with open(path+title_list[i]+'.txt','w+',encoding='utf-8') as f:\n",
    "            f.write(str(content_list[i]))\n",
    "   \n",
    "    "
   ]
  },
  {
   "cell_type": "code",
   "execution_count": 3,
   "metadata": {},
   "outputs": [],
   "source": [
    "def spider_run(blog_name='qq_42304949',num_page=3):\n",
    "    '''\n",
    "    爬取博客文章链接及内容并存储，成功返回1，反之返回0\n",
    "    :blog_name: 博客ID\n",
    "    :numpage: 爬取页数\n",
    "    '''\n",
    "    headers = {\n",
    "            'User-Agent':'Mozilla/5.0 (Windows NT 10.0; Win64; x64) AppleWebKit/537.36 (KHTML, like Gecko) \\\n",
    "            Chrome/75.0.3770.80 Safari/537.36'\n",
    "    }\n",
    "    \n",
    "    for i in range(num_page):\n",
    "        url='https://blog.csdn.net/' + blog_name + '/article/list/'+str(i+1)+'?' \n",
    "        try:\n",
    "            res=req.get(url,timeout=10)\n",
    "            res.raise_for_status()\n",
    "            res.encoding=res.apparent_encoding\n",
    "            #print(len(res.text),i)\n",
    "            #print(res.text)\n",
    "\n",
    "        except Exception as e:\n",
    "            print('Exception:',e)\n",
    "\n",
    "        soup=BeautifulSoup(res.text,'lxml')\n",
    "        reg=re.compile(r'原创</span>\\s*(.*)      </a>')    #正则表达式匹配文章标题       \n",
    "        title_list=reg.findall(res.text)\n",
    "        #print(titlelist)\n",
    "        content_list=soup.select('p a')          #BeautifulSoup的css选择器选择文章链接及文章开头部分内容\n",
    "        #content_list=soup.find_all('p',attrs='content') \n",
    "        #print(soup.select('p a'))\n",
    "        save_data(title_list,content_list)       #保存\n",
    "        if len(title_list)==0:\n",
    "            return 0\n",
    "    return 1\n",
    "\n"
   ]
  },
  {
   "cell_type": "code",
   "execution_count": 4,
   "metadata": {},
   "outputs": [],
   "source": [
    "#GUI部分\n",
    "from tkinter import *\n",
    "\n",
    "def run():\n",
    "    s1='爬取成功,已存入目录：./blog/\\n'\n",
    "    s2='爬取失败！请检查网络是否畅通或输入是否合理\\n'\n",
    "    s=s2\n",
    "    if(spider_run(inp1.get(),num_page=int(inp2.get()))):  s=s1\n",
    "    txt.insert(END, s)    # 追加显示运算结果\n",
    "    #inp1.delete(0, END)   # 清空输入\n",
    "\n",
    "\n",
    "root = Tk()\n",
    "root.geometry('360x250')\n",
    "root.title('blog_csdn_tool')\n",
    "\n",
    "lb1 = Label(root, text=' 请输入CSDN博客ID')          #文本标签1\n",
    "lb1.place(relx=0.20, rely=0.1, relwidth=0.8, relheight=0.1)   \n",
    "default_value1 = StringVar();  default_value1.set('qq_42304949');        #设置默认值\n",
    "inp1 = Entry(root,textvariable=default_value1)                            #输入文本框1\n",
    "inp1.place(relx=0.1, rely=0.1, relwidth=0.3, relheight=0.12)   \n",
    "\n",
    "lb2 = Label(root, text=' 请输入爬取页数')          #文本标签2\n",
    "lb2.place(relx=0.15, rely=0.3, relwidth=0.9, relheight=0.1)\n",
    "default_value2 = StringVar();  default_value2.set('3');        #设置默认值\n",
    "inp2 = Entry(root,textvariable=default_value2)                    #输入文本框2\n",
    "inp2.place(relx=0.1, rely=0.3, relwidth=0.3, relheight=0.12)   \n",
    "\n",
    "# 直接调用 run()\n",
    "btn1 = Button(root, text='开始爬取', command=run)             #\"开始爬取按钮   \n",
    "btn1.place(relx=0.35, rely=0.45, relwidth=0.3, relheight=0.1)\n",
    "\n",
    "\n",
    "# 在窗体垂直自上而下位置60%处起，布局相对窗体高度40%高的文本框    \n",
    "txt = Text(root)                                      #输出文本框\n",
    "txt.place(rely=0.6, relheight=0.3)\n",
    "root.mainloop()                 #死循环，直到关闭窗口\n"
   ]
  }
 ],
 "metadata": {
  "kernelspec": {
   "display_name": "Python 3",
   "language": "python",
   "name": "python3"
  },
  "language_info": {
   "codemirror_mode": {
    "name": "ipython",
    "version": 3
   },
   "file_extension": ".py",
   "mimetype": "text/x-python",
   "name": "python",
   "nbconvert_exporter": "python",
   "pygments_lexer": "ipython3",
   "version": "3.7.3"
  }
 },
 "nbformat": 4,
 "nbformat_minor": 2
}
